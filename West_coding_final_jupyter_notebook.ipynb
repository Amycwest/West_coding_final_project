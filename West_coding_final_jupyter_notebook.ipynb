{
 "cells": [
  {
   "cell_type": "markdown",
   "metadata": {},
   "source": [
    "# Part 1: \n",
    "## Make a file Python can read"
   ]
  },
  {
   "cell_type": "markdown",
   "metadata": {},
   "source": [
    "Python does not know how to read files, we have to tell it how to do it"
   ]
  },
  {
   "cell_type": "code",
   "execution_count": 2,
   "metadata": {
    "scrolled": true
   },
   "outputs": [],
   "source": [
    "#### Open CLSW_cut.txt file ####\n",
    "\n",
    "# Provide file name\n",
    "filename='CLSW_cut.txt'\n",
    "\n",
    "# Open file and make each line an element in a list\n",
    "with open (filename) as file_object:\n",
    "    CLSW_cut=file_object.readlines()"
   ]
  },
  {
   "cell_type": "code",
   "execution_count": 3,
   "metadata": {},
   "outputs": [],
   "source": [
    "#### Make CLSW_cut into a nested list ####\n",
    "\n",
    "## Make a list of empty lists: \n",
    "    #This prevents us from having to append 30+ rows of data individually\n",
    "\n",
    "# Make an empty nest to put the empty lists in\n",
    "CLSW_cut_nest=[] \n",
    "\n",
    "# Create a variable that counts the number of rows we need\n",
    "    # Python is currently reading each row as a single string, so we can't count the number of rows\n",
    "       # Instead we count the number of tabs in the first string and then add 1\n",
    "n = (CLSW_cut[0].count('\\t'))+1  \n",
    "\n",
    "# Add all the empty lists to the empty list\n",
    "for i in range(n): # Loop through the 'n' count\n",
    "    CLSW_cut_nest.append([]) # Add an empty list for every row in the dataset\n",
    "\n",
    "    \n",
    "## Divide each row into a separate list and append to the nest\n",
    " \n",
    "# Fill the empty nest\n",
    "for row in CLSW_cut: # Loop through each row in CLSW_cut \n",
    "    counter=0 # Make a counter: it has to be in the loop so it resets for each row\n",
    "    if counter < 36: # DO NOT continue this loop when we run out of rows \n",
    "        stripped_CLSW=row.rstrip() # Take out extra characters\n",
    "        split_CLSW=stripped_CLSW.split('\\t') # Split the cells along the tab key\n",
    "        for num in CLSW_cut_nest: # Loop through each empty list \n",
    "            num.append(split_CLSW[counter]) # Add that string we split\n",
    "            counter=counter+1 # Increase the counter so the next element can be added"
   ]
  },
  {
   "cell_type": "markdown",
   "metadata": {},
   "source": [
    "# Part 2:\n",
    "## Remove baby birds"
   ]
  },
  {
   "cell_type": "markdown",
   "metadata": {},
   "source": [
    "The question we're trying to answer is about weight, and baby birds (J=juvenile) do not weigh the same as adult birds, so we need to remove them from the dataset."
   ]
  },
  {
   "cell_type": "code",
   "execution_count": 4,
   "metadata": {},
   "outputs": [],
   "source": [
    "### Remove juvenile birds ###\n",
    "\n",
    "#A count of the rows we need, but now, we can use the len command\n",
    "rows=len(CLSW_cut_nest[0]) \n",
    "\n",
    "# Create an empty_list\n",
    "no_J=[] \n",
    "\n",
    "# Put all the adult birds into the new list\n",
    "for x in range (0,rows): # Loop through each row of the nest\n",
    "    if CLSW_cut_nest[0][x] != 'J': # If the first row does not contain a J...\n",
    "        for y in range (0,n): #(loop through columns)\n",
    "            no_J.append(CLSW_cut_nest[y][x]) #... append the whole row to the no_J list\n"
   ]
  },
  {
   "cell_type": "code",
   "execution_count": 5,
   "metadata": {},
   "outputs": [],
   "source": [
    "### Turn the data back into a nest ###\n",
    "\n",
    "## Note: this is a bit different than in part 1. \n",
    "    # Before all our elements weren't separated. Now they are but they aren't in rows, \n",
    "    # Concept is the same but the code's a bit different\n",
    "\n",
    "# Make an empty list\n",
    "no_J_nest=[]\n",
    "\n",
    "# Create a list of empty lists\n",
    "n2 = int((len(no_J))/(n)) # Calculate the number of rows we need in the list, \n",
    "                                # Because we did math we end up with a float(ing integer), which don't work in range lists\n",
    "                                # Change it into an integer using int\n",
    "\n",
    "for i in range(0,n2): # Fill the empty list with empty lists\n",
    "    no_J_nest.append([])\n",
    "\n",
    "## Put No_J into nested list \n",
    "\n",
    "# Make a counter\n",
    "counter=0 \n",
    "\n",
    "# Append each line of the no_J data\n",
    "for g in no_J_nest: # Loop through each line of our nest\n",
    "    if (counter+n) > (len(no_J)):  # Create a condition with some math\n",
    "            break  # End the loop \n",
    "    for y in range (counter,counter+n): #Loop through each element\n",
    "        g.append(no_J[y]) #Append each element to a row of the nest\n",
    "    counter=counter+n #Increase the counter\n",
    "\n",
    "    \n",
    "#Note the output of this nest is actually flipped from the previous nest we made; this doesn't matter "
   ]
  },
  {
   "cell_type": "markdown",
   "metadata": {},
   "source": [
    "# Part 3:\n",
    "## Remove NA's"
   ]
  },
  {
   "cell_type": "markdown",
   "metadata": {},
   "source": [
    "We are trying to answer a question about year to year survival.  What a bird weighs at the beginning of the season is irrelevant to this question and could scew the data.  If we have no Late Weight data, we don't need that bird.  However, we have 32 years to sort though.  We need to look at the Late Weight measurements for each year, so only if all 32 cells have NA's can we eliminate the bird from the data set."
   ]
  },
  {
   "cell_type": "code",
   "execution_count": 6,
   "metadata": {},
   "outputs": [],
   "source": [
    "### Remove the NA's ### \n",
    "\n",
    "# Make an empty list\n",
    "no_NA=[]\n",
    "\n",
    "# Put rows with all NA's for Late Weights into new list\n",
    "for rows in no_J_nest: # Loop through each row in our old nest\n",
    "    if any (rows[x] != 'NA' for x in range (4,36)): # Fulfill multiple conditions with if any command and reverse search\n",
    "                                                        # Rows 4-35 contain the Late Weights \n",
    "        no_NA.append(rows) # Add the rows that fulfill requirement to new list"
   ]
  },
  {
   "cell_type": "markdown",
   "metadata": {},
   "source": [
    "# Part 4: \n",
    "## Weight Categories"
   ]
  },
  {
   "cell_type": "markdown",
   "metadata": {},
   "source": [
    "Program mark cannot read continus variables, so we are making them all discrete, by changing our weight measurements into letters.  Weight categories are based on standard deviation from the mean."
   ]
  },
  {
   "cell_type": "code",
   "execution_count": 7,
   "metadata": {},
   "outputs": [],
   "source": [
    "### Put first four rows into separate list ### \n",
    "\n",
    "# Make a new list\n",
    "pop_catch=[]\n",
    "\n",
    "# Use pop fuunction to remove the rows and put them somewhere else\n",
    "for x in no_NA: # Loop through each row in no_NA nest\n",
    "    for counter in range (0,4): # For each of the first four rows\n",
    "        popcorn=x.pop(0) # Remove the elment and make it a variable called popcorn (lol)\n",
    "        pop_catch.append(popcorn) # Put the popcorn into the pop_catch list \n"
   ]
  },
  {
   "cell_type": "code",
   "execution_count": 8,
   "metadata": {},
   "outputs": [],
   "source": [
    "### Make pop-catch into a nest so it can be indexed into later ###\n",
    "\n",
    "# Change pop_catch into nested list \n",
    "pop_catch_nest=[]\n",
    "\n",
    "# Create a nest of empty lists\n",
    "\n",
    "n2 =int(len(pop_catch)/4)\n",
    "\n",
    "for i in range(0,n2):\n",
    "    pop_catch_nest.append([])\n",
    "\n",
    "# Create a counter\n",
    "counter=0\n",
    "\n",
    "# Append pop_catch to the new list\n",
    "for g in pop_catch_nest: # For each row in the empty nest\n",
    "    if (counter+4) > len((pop_catch)): # Do not continue this loop when you get to the end of the list\n",
    "        break\n",
    "    for y in range (counter,counter+4): # Loop through the first four elements\n",
    "        g.append(pop_catch[y]) # Append to a nest\n",
    "    counter=counter+4 # Increase the counter to the next four elements"
   ]
  },
  {
   "cell_type": "code",
   "execution_count": 9,
   "metadata": {},
   "outputs": [],
   "source": [
    "### Make nested list into a list ###\n",
    "flatList = [item for elem in no_NA for item in elem]"
   ]
  },
  {
   "cell_type": "code",
   "execution_count": 10,
   "metadata": {},
   "outputs": [],
   "source": [
    "### Make all the numbers readable ###\n",
    "\n",
    "# As it stands all the numbers are being read as a mix of strings, integers, and floats, we need them all to be strings with a float format\n",
    "\n",
    "# Make a new list\n",
    "flatList_float=[]\n",
    "\n",
    "# Turn all the numbers into floats\n",
    "for line in flatList: # Loop through each line in our list\n",
    "    if line >= '13' and line <= '34': # If the element is a number in this range (the weight range for CLSW's)...\n",
    "        floating=float(line) # ...turn the number into a float\n",
    "        flatList_float.append(floating) # Put the float in our new list\n",
    "    else: # If the element is not a CLSW weight... \n",
    "        flatList_float.append(line) # ...Just leave it as is and add it to the new list\n",
    "\n",
    "# Now that we have your decimals turn your floating integers back into strings because python refuses to replace numbers with letters \n",
    "flatList_string=[] # Make a new list\n",
    "for line in flatList_float: # Loop through the list\n",
    "        floating=str(line) # Turn everything into a string\n",
    "        flatList_string.append(floating) # Add it to the new list\n",
    "   "
   ]
  },
  {
   "cell_type": "code",
   "execution_count": 11,
   "metadata": {},
   "outputs": [],
   "source": [
    "### Replace all the weights with discrete variables ###\n",
    "\n",
    "# Make a new list\n",
    "inp_con=[]\n",
    "\n",
    "# Change numbers into letters#\n",
    "for line in flatList_string: # Loop through each line in the string\n",
    "    if line == 'NA': # Replace remaining NA's with 0's\n",
    "        inp_con.append(0)\n",
    "    elif line >= '14.0' and line <= '19.0': # Replace each weight range with a different letter\n",
    "        inp_con.append('A')\n",
    "    elif line >= '19.1' and line <= '20.6': \n",
    "        inp_con.append('B')\n",
    "    elif line >= '20.7' and line <= '21.9':\n",
    "        inp_con.append('C')\n",
    "    elif line == '22.0':\n",
    "        inp_con.append('D')\n",
    "    elif line >= '22.1' and line <= '23.7':\n",
    "        inp_con.append('E')\n",
    "    elif line >= '23.8' and line <= '25.4':\n",
    "        inp_con.append('F')\n",
    "    elif line >= '25.5' and line <= '27.0':\n",
    "        inp_con.append('G')\n",
    "    elif line >= '27.1' and line <= '33.5':\n",
    "        inp_con.append('H')\n",
    "    else: # if the line is not a CLSW weight or an NA just leave it as is\n",
    "        inp_con.append(line)\n",
    "        "
   ]
  },
  {
   "cell_type": "code",
   "execution_count": 12,
   "metadata": {},
   "outputs": [],
   "source": [
    "### Change back into a nested list ###\n",
    "\n",
    "# Make an empty list\n",
    "inp_con_nest=[] \n",
    "\n",
    "# Create a list of empty lists\n",
    "n2 =len(no_NA) # Number of lines in our last nested list \n",
    "n3 =n-4 # Number of rows except that we popped the first 4 \n",
    "\n",
    "# Add empty lists to empty nest\n",
    "for i in range(0,n2):\n",
    "    inp_con_nest.append([]) \n",
    "\n",
    "# Make a counter\n",
    "counter=0 \n",
    "\n",
    "# Append data to empty nest\n",
    "for g in inp_con_nest: # Loop through each row in the nest\n",
    "    if (counter+n3) > (len(inp_con)): # Once the counter reaches the last row stop\n",
    "           break\n",
    "    for y in range (counter,counter+n3): # For elements in range 0-36 for example...\n",
    "        g.append(inp_con[y]) # ...add elements to the row in the nest\n",
    "    counter=counter+n3 # Increase the counter to go to the next set of numbers"
   ]
  },
  {
   "cell_type": "markdown",
   "metadata": {},
   "source": [
    "# Part 5: \n",
    "## Make a single string of Late Weights"
   ]
  },
  {
   "cell_type": "markdown",
   "metadata": {},
   "source": [
    ".inp files are just a string of numbers separated by semicolons, so we need to get rid of all the extra stuff"
   ]
  },
  {
   "cell_type": "code",
   "execution_count": 13,
   "metadata": {},
   "outputs": [],
   "source": [
    "### Merge all weight data into single string ###\n",
    "\n",
    "# Create an empty list\n",
    "inp_strings=[] \n",
    "\n",
    "# Merge elements and add them to a new list\n",
    "for line in inp_con_nest: # For each line of the nest\n",
    "    inp_string=' '.join([str(elem) for elem in line]) # Collaspe elements in each row into a string\n",
    "    no_space=inp_string.replace(\" \",\"\" ) # Take out extra spaces in the file\n",
    "    inp_strings.append(no_space) # Add merged and spaceless string to a list"
   ]
  },
  {
   "cell_type": "markdown",
   "metadata": {},
   "source": [
    "# Part 6:\n",
    "## Fill in some 1's"
   ]
  },
  {
   "cell_type": "markdown",
   "metadata": {},
   "source": [
    "We caught birds. Sometimes we caught a bird late in the season (so we have a Late Weight), and sometimes we caught that bird again, but not late in the year.  We want Mark to know that those birds were recaught but don't want Mark to consider the weight.  Thus, these birds get their own code (a '1'), but they are currently coded as 0's (meaning we didn't catch the bird).\n",
    "Previously, someone also working with this dataset, made an .inp looking at just bird survival (a string of 1's and 0's that tell us nothing about the birds other than whether or not they were captured).  They then left these strings in the CLSW_cut.txt file we're working from, and we're going to take advantage of it. These .inp strings are referred to as the ch number."
   ]
  },
  {
   "cell_type": "markdown",
   "metadata": {},
   "source": [
    "Example of filling in the 1's\n",
    "\n",
    "Ch number:    ['10100000000000000000000000000000', '01100000000000000000000000000000']\n",
    "\n",
    "inp_strings:  ['00E00000000000000000000000000000', '0FD00000000000000000000000000000']\n",
    "\n",
    "final product:['10E00000000000000000000000000000', '0FD00000000000000000000000000000']\n",
    "\n",
    "In the first column the first number in the string gets replaced because the bird was captured without collecting late weight data.    \n",
    "\n",
    "The second string remains the same beause whenever bird was captured there was a late weight.  "
   ]
  },
  {
   "cell_type": "code",
   "execution_count": 14,
   "metadata": {},
   "outputs": [],
   "source": [
    "### Just grab the Ch numbers ###\n",
    "\n",
    "ch_nums=[] # Make an empty list\n",
    "\n",
    "for line in pop_catch_nest: # Append each of the ch numbers from pop_catch to ch_nums\n",
    "     ch_nums.append(line[3])"
   ]
  },
  {
   "cell_type": "code",
   "execution_count": 15,
   "metadata": {},
   "outputs": [
    {
     "data": {
      "text/plain": [
       "'MNLATEWT.1982MNLATEWT.1983MNLATEWT.1984MNLATEWT.1985MNLATEWT.1986MNLATEWT.1987MNLATEWT.1988MNLATEWT.1989MNLATEWT.1990MNLATEWT.1991MNLATEWT.1992MNLATEWT.1993MNLATEWT.1994MNLATEWT.1995MNLATEWT.1996MNLATEWT.1997MNLATEWT.1998MNLATEWT.1999MNLATEWT.2000MNLATEWT.2001MNLATEWT.2002MNLATEWT.2003MNLATEWT.2004MNLATEWT.2005MNLATEWT.2006MNLATEWT.2007MNLATEWT.2008MNLATEWT.2009MNLATEWT.2010MNLATEWT.2011MNLATEWT.2012MNLATEWT.2013'"
      ]
     },
     "execution_count": 15,
     "metadata": {},
     "output_type": "execute_result"
    }
   ],
   "source": [
    "### Remove headers as we don't need them for this, or the final product ###\n",
    "ch_nums.pop(0)\n",
    "inp_strings.pop(0)"
   ]
  },
  {
   "cell_type": "code",
   "execution_count": 16,
   "metadata": {},
   "outputs": [],
   "source": [
    "### Fill in the 1's and put them in a new list ###\n",
    "\n",
    "# Create some empty lists\n",
    "recap=[]\n",
    "recap_string=[]\n",
    "\n",
    "# Fill in 1's and add a merged string to new list\n",
    "for g in range (0, len(inp_strings)): # Give some ranges to index into in this case the rows for each of our two lists \n",
    "    for x in range (0,n3): # This is the number of columns\n",
    "        if ch_nums[g][x] == '1' and inp_strings[g][x] == '0': # If the ch_num is a 1 and the inp_string is a 0... \n",
    "            recap.append('1') # ...append a 1 to the list \n",
    "        else: # If not...\n",
    "            recap.append(inp_strings[g][x]) # ...append the inp_string element\n",
    "    inp_string=''.join(recap) # Merge the appended numbers\n",
    "    recap_string.append(inp_string) # Add the appended number to a new list\n",
    "    recap=[] # Clear out the first list for the next loop\n"
   ]
  },
  {
   "cell_type": "markdown",
   "metadata": {},
   "source": [
    "# Part 7:\n",
    "## Add some counts and semicolons"
   ]
  },
  {
   "cell_type": "markdown",
   "metadata": {},
   "source": [
    "We have all our strings! Now for Mark to read the strings, we need to add a little blip to each string that says how many times the string appears and then put a semicolon so Mark knows it's a different bird.  We could count each time a sequence appears and put that on the end, but for data with more than 0's and 1's such as this, Mark wants to read each one at a time, so we'll just put ' 1;' on the end of each."
   ]
  },
  {
   "cell_type": "code",
   "execution_count": 17,
   "metadata": {},
   "outputs": [],
   "source": [
    "### Turning into nest ###\n",
    "  \n",
    "# Create an empty file\n",
    "recap_nest=[] \n",
    "\n",
    "# Create a nest of empty lists\n",
    "n4 =int(len(recap_string)) # Want the same number of rows as recap_string\n",
    "\n",
    "for i in range(0,n4):\n",
    "    recap_nest.append([]) # Add empty lists\n",
    "\n",
    "#Fill the empty lists\n",
    "for y in range (0,n4): \n",
    "    recap_nest[y].append(recap_string[y]) # Put each of the strings into a nest\n",
    "\n"
   ]
  },
  {
   "cell_type": "code",
   "execution_count": 18,
   "metadata": {},
   "outputs": [],
   "source": [
    "### Add ' 1;' to each line ###\n",
    "for line in recap_nest: # For each row in the nest \n",
    "    line.append(' 1 ;')  # The space is necessary for the file to be read, semicolon indicates new bird"
   ]
  },
  {
   "cell_type": "code",
   "execution_count": 19,
   "metadata": {},
   "outputs": [],
   "source": [
    "### Turn nest into a list\n",
    "\n",
    "# Make an empty list\n",
    "recap_string_count=[] \n",
    "\n",
    "# Collaspe nest into a list\n",
    "for line in recap_nest: # Loop through each row in the nest\n",
    "    inp_string=''.join(line) # Collaspe each line\n",
    "    recap_string_count.append(inp_string) # Append each line to a string"
   ]
  },
  {
   "cell_type": "markdown",
   "metadata": {},
   "source": [
    "# Part 8:\n",
    "## Export the file"
   ]
  },
  {
   "cell_type": "markdown",
   "metadata": {},
   "source": [
    "OMG We did it! Now, we just have to export our work. File can be opened with textedit (and presumably other text editors), viewed on the terminal command (though use head or less commands), and most importantly Mark!"
   ]
  },
  {
   "cell_type": "code",
   "execution_count": 20,
   "metadata": {},
   "outputs": [],
   "source": [
    "### Create file and add data to it ###\n",
    "with open(\"recap.inp\", \"w\") as file: #Create a file, name and open it so we can write data to it\n",
    "    for line in recap_string_count: #Loop through each line\n",
    "        file.write(f'{line}\\n') #Add each list element to file.  \n",
    "                                #We don't need the new line but it makes it look nicer\n",
    "    "
   ]
  },
  {
   "cell_type": "code",
   "execution_count": 21,
   "metadata": {},
   "outputs": [
    {
     "name": "stdout",
     "output_type": "stream",
     "text": [
      "\n",
      "You have sucessfully created an .inp file! File is located in working directory as (recap.inp) and is ready to run in Mark\n",
      "\n",
      "Thank you for using my program\n",
      "\n"
     ]
    }
   ],
   "source": [
    "print(\"\\nYou have sucessfully created an .inp file! File is located in working directory as (recap.inp) and is ready to run in Mark\\n\\nThank you for using my program\\n\")"
   ]
  }
 ],
 "metadata": {
  "kernelspec": {
   "display_name": "Python 3",
   "language": "python",
   "name": "python3"
  },
  "language_info": {
   "codemirror_mode": {
    "name": "ipython",
    "version": 3
   },
   "file_extension": ".py",
   "mimetype": "text/x-python",
   "name": "python",
   "nbconvert_exporter": "python",
   "pygments_lexer": "ipython3",
   "version": "3.8.3"
  }
 },
 "nbformat": 4,
 "nbformat_minor": 4
}
